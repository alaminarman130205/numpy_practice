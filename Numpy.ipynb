{
 "cells": [
  {
   "cell_type": "markdown",
   "id": "792af698",
   "metadata": {},
   "source": [
    "Numpy Basic"
   ]
  },
  {
   "cell_type": "code",
   "execution_count": 1,
   "id": "a01227d9",
   "metadata": {},
   "outputs": [],
   "source": [
    "import numpy as np"
   ]
  },
  {
   "cell_type": "code",
   "execution_count": 2,
   "id": "3b97d4d3",
   "metadata": {},
   "outputs": [],
   "source": [
    "a  = np.array([1,2,3,4,5,6],dtype=\"i\")"
   ]
  },
  {
   "cell_type": "code",
   "execution_count": null,
   "id": "7326f229",
   "metadata": {},
   "outputs": [],
   "source": [
    "b  = np.array((3,4,5,6), dtype=\"f\")"
   ]
  },
  {
   "cell_type": "code",
   "execution_count": 6,
   "id": "e7367f36",
   "metadata": {},
   "outputs": [
    {
     "name": "stdout",
     "output_type": "stream",
     "text": [
      "<class 'numpy.ndarray'>\n"
     ]
    }
   ],
   "source": [
    "print(type(a))"
   ]
  },
  {
   "cell_type": "markdown",
   "id": "307824e5",
   "metadata": {},
   "source": [
    "two dimention array"
   ]
  },
  {
   "cell_type": "code",
   "execution_count": 9,
   "id": "197957ee",
   "metadata": {},
   "outputs": [
    {
     "name": "stdout",
     "output_type": "stream",
     "text": [
      "[[1 2 3]\n",
      " [4 5 6]]\n"
     ]
    }
   ],
   "source": [
    "import numpy as np\n",
    "a = np.array([[1,2,3],[4,5,6]])\n",
    "print(a)"
   ]
  },
  {
   "cell_type": "code",
   "execution_count": 10,
   "id": "c49317e3",
   "metadata": {},
   "outputs": [
    {
     "data": {
      "text/plain": [
       "2"
      ]
     },
     "execution_count": 10,
     "metadata": {},
     "output_type": "execute_result"
    }
   ],
   "source": [
    "a.ndim"
   ]
  },
  {
   "cell_type": "code",
   "execution_count": 11,
   "id": "1c1189f2",
   "metadata": {},
   "outputs": [
    {
     "data": {
      "text/plain": [
       "3"
      ]
     },
     "execution_count": 11,
     "metadata": {},
     "output_type": "execute_result"
    }
   ],
   "source": [
    "a[0,2]"
   ]
  },
  {
   "cell_type": "code",
   "execution_count": 14,
   "id": "4ce2d08a",
   "metadata": {},
   "outputs": [
    {
     "data": {
      "text/plain": [
       "2"
      ]
     },
     "execution_count": 14,
     "metadata": {},
     "output_type": "execute_result"
    }
   ],
   "source": [
    "b  = np.array([[1,2,3,4,5],[2,3,4,5,6]])\n",
    "b.ndim"
   ]
  },
  {
   "cell_type": "code",
   "execution_count": 16,
   "id": "d08aad70",
   "metadata": {},
   "outputs": [
    {
     "data": {
      "text/plain": [
       "5"
      ]
     },
     "execution_count": 16,
     "metadata": {},
     "output_type": "execute_result"
    }
   ],
   "source": [
    "b[1,3]"
   ]
  },
  {
   "cell_type": "code",
   "execution_count": 17,
   "id": "9da67846",
   "metadata": {},
   "outputs": [
    {
     "data": {
      "text/plain": [
       "(2, 5)"
      ]
     },
     "execution_count": 17,
     "metadata": {},
     "output_type": "execute_result"
    }
   ],
   "source": [
    "b.shape"
   ]
  },
  {
   "cell_type": "code",
   "execution_count": 23,
   "id": "0c641581",
   "metadata": {},
   "outputs": [
    {
     "name": "stdout",
     "output_type": "stream",
     "text": [
      "[20 25 30 35 40 45 50 55 60 65 70 75 80 85 90 95]\n"
     ]
    }
   ],
   "source": [
    "A = np.arange(20, 100, 5)\n",
    "print(A)"
   ]
  },
  {
   "cell_type": "code",
   "execution_count": 28,
   "id": "36c26a5f",
   "metadata": {},
   "outputs": [
    {
     "name": "stdout",
     "output_type": "stream",
     "text": [
      "[0, 1, 2, 3, 4, 5, 6, 7, 8, 9]\n"
     ]
    }
   ],
   "source": [
    "print(list(range(10)))"
   ]
  },
  {
   "cell_type": "code",
   "execution_count": 30,
   "id": "254204da",
   "metadata": {},
   "outputs": [
    {
     "name": "stdout",
     "output_type": "stream",
     "text": [
      "[7 9 8 6 3 5 1 4 2 0]\n"
     ]
    }
   ],
   "source": [
    "import numpy as np\n",
    "A = np.random.permutation(np.arange(10))\n",
    "print(A)"
   ]
  },
  {
   "cell_type": "code",
   "execution_count": 35,
   "id": "2ecb8c1d",
   "metadata": {},
   "outputs": [
    {
     "name": "stdout",
     "output_type": "stream",
     "text": [
      "24\n"
     ]
    },
    {
     "data": {
      "text/plain": [
       "int"
      ]
     },
     "execution_count": 35,
     "metadata": {},
     "output_type": "execute_result"
    }
   ],
   "source": [
    "v = np.random.randint(20,40)\n",
    "print(v)\n",
    "type(v)\n"
   ]
  },
  {
   "cell_type": "code",
   "execution_count": 41,
   "id": "988e304c",
   "metadata": {},
   "outputs": [],
   "source": [
    "import matplotlib.pyplot as plt\n",
    "A = np.random.rand(1000)\n"
   ]
  },
  {
   "cell_type": "code",
   "execution_count": 43,
   "id": "a77bcc51",
   "metadata": {},
   "outputs": [
    {
     "data": {
      "text/plain": [
       "(array([ 8.,  8., 11.,  7.,  3., 11.,  8.,  8., 15., 11.,  8.,  5., 11.,\n",
       "        14., 14.,  7., 11., 13.,  9.,  8.,  7.,  9.,  9., 12., 13.,  4.,\n",
       "         9.,  9., 14.,  9., 13.,  8., 13., 11., 18.,  9.,  6.,  9.,  9.,\n",
       "        10., 15.,  9.,  7., 10., 12., 16.,  7.,  9., 17.,  4.,  9., 13.,\n",
       "        11., 13., 10., 10., 10., 10.,  6.,  9., 13.,  9.,  7.,  3.,  8.,\n",
       "        10.,  8.,  9., 13., 14.,  8., 13.,  6.,  9., 14.,  8., 10.,  7.,\n",
       "         8., 10., 12.,  6., 10., 10.,  6., 10., 11., 14., 13., 15.,  9.,\n",
       "         9., 10.,  7., 13.,  9., 21.,  8.,  8., 14.]),\n",
       " array([0.00168075, 0.01165933, 0.02163791, 0.03161649, 0.04159507,\n",
       "        0.05157365, 0.06155223, 0.07153081, 0.08150939, 0.09148797,\n",
       "        0.10146655, 0.11144513, 0.12142371, 0.13140229, 0.14138087,\n",
       "        0.15135945, 0.16133803, 0.17131661, 0.18129519, 0.19127377,\n",
       "        0.20125235, 0.21123094, 0.22120952, 0.2311881 , 0.24116668,\n",
       "        0.25114526, 0.26112384, 0.27110242, 0.281081  , 0.29105958,\n",
       "        0.30103816, 0.31101674, 0.32099532, 0.3309739 , 0.34095248,\n",
       "        0.35093106, 0.36090964, 0.37088822, 0.3808668 , 0.39084538,\n",
       "        0.40082396, 0.41080254, 0.42078112, 0.4307597 , 0.44073828,\n",
       "        0.45071686, 0.46069544, 0.47067402, 0.4806526 , 0.49063118,\n",
       "        0.50060976, 0.51058834, 0.52056692, 0.5305455 , 0.54052408,\n",
       "        0.55050266, 0.56048124, 0.57045982, 0.5804384 , 0.59041698,\n",
       "        0.60039556, 0.61037414, 0.62035272, 0.6303313 , 0.64030988,\n",
       "        0.65028846, 0.66026704, 0.67024562, 0.6802242 , 0.69020278,\n",
       "        0.70018136, 0.71015994, 0.72013852, 0.7301171 , 0.74009568,\n",
       "        0.75007426, 0.76005284, 0.77003142, 0.78001   , 0.78998858,\n",
       "        0.79996716, 0.80994574, 0.81992432, 0.8299029 , 0.83988148,\n",
       "        0.84986006, 0.85983864, 0.86981722, 0.8797958 , 0.88977438,\n",
       "        0.89975296, 0.90973154, 0.91971012, 0.9296887 , 0.93966728,\n",
       "        0.94964586, 0.95962444, 0.96960302, 0.9795816 , 0.98956018,\n",
       "        0.99953876]),\n",
       " <BarContainer object of 100 artists>)"
      ]
     },
     "execution_count": 43,
     "metadata": {},
     "output_type": "execute_result"
    },
    {
     "data": {
      "image/png": "[encoded data removed]",
      "text/plain": [
       "<Figure size 640x480 with 1 Axes>"
      ]
     },
     "metadata": {},
     "output_type": "display_data"
    }
   ],
   "source": [
    "plt.hist(A,bins=100)"
   ]
  },
  {
   "cell_type": "code",
   "execution_count": 48,
   "id": "a6d06f58",
   "metadata": {},
   "outputs": [
    {
     "data": {
      "text/plain": [
       "(array([ 5.,  6.,  7.,  4.,  4.,  1.,  2.,  4.,  6.,  3.,  7.,  6.,  5.,\n",
       "         5.,  2.,  5.,  7.,  5.,  3., 12., 12.,  6.,  2.,  8.,  5.,  8.,\n",
       "         9.,  5.,  5.,  2.,  2.,  7.,  7.,  6.,  4.,  2.,  6.,  3.,  4.,\n",
       "         6.,  3.,  3.,  5.,  5.,  5.,  4.,  4.,  5.,  6.,  6.,  3.,  5.,\n",
       "         3., 10.,  6.,  3.,  3.,  6.,  7.,  5.,  5.,  2.,  8.,  2.,  6.,\n",
       "         3.,  7.,  4.,  4.,  1.,  6.,  1.,  6.,  5.,  4.,  9.,  4.,  6.,\n",
       "         4.,  2.,  4.,  7.,  5.,  4.,  4.,  6.,  8.,  6.,  2.,  5.,  3.,\n",
       "         5.,  5.,  6.,  3.,  2.,  2.,  8.,  2.,  2.,  3., 11.,  7.,  5.,\n",
       "         5.,  5.,  6.,  2.,  4.,  7.,  2.,  2.,  5.,  8.,  8.,  8.,  4.,\n",
       "         5.,  8.,  7.,  8.,  8.,  8.,  5.,  2.,  7.,  1., 10.,  4.,  6.,\n",
       "         5.,  4.,  3.,  6.,  7.,  4.,  5.,  3.,  0.,  6.,  5.,  2.,  5.,\n",
       "         5.,  5.,  3.,  6., 10.,  8.,  2.,  5.,  6.,  5.,  6.,  6.,  6.,\n",
       "         7.,  4.,  6.,  4.,  4.,  9.,  5.,  4.,  3.,  1.,  3.,  7.,  3.,\n",
       "         7.,  1.,  5.,  7.,  3.,  7.,  4.,  6.,  4.,  4.,  1.,  3.,  3.,\n",
       "         3.,  8.,  7.,  5.,  4.,  4.,  7.,  9.,  7.,  3.,  5.,  7.,  5.,\n",
       "         7.,  2.,  7.,  6.,  7.]),\n",
       " array([3.32172209e-04, 5.32813176e-03, 1.03240913e-02, 1.53200509e-02,\n",
       "        2.03160104e-02, 2.53119700e-02, 3.03079295e-02, 3.53038891e-02,\n",
       "        4.02998487e-02, 4.52958082e-02, 5.02917678e-02, 5.52877273e-02,\n",
       "        6.02836869e-02, 6.52796464e-02, 7.02756060e-02, 7.52715655e-02,\n",
       "        8.02675251e-02, 8.52634846e-02, 9.02594442e-02, 9.52554038e-02,\n",
       "        1.00251363e-01, 1.05247323e-01, 1.10243282e-01, 1.15239242e-01,\n",
       "        1.20235202e-01, 1.25231161e-01, 1.30227121e-01, 1.35223080e-01,\n",
       "        1.40219040e-01, 1.45214999e-01, 1.50210959e-01, 1.55206918e-01,\n",
       "        1.60202878e-01, 1.65198838e-01, 1.70194797e-01, 1.75190757e-01,\n",
       "        1.80186716e-01, 1.85182676e-01, 1.90178635e-01, 1.95174595e-01,\n",
       "        2.00170554e-01, 2.05166514e-01, 2.10162474e-01, 2.15158433e-01,\n",
       "        2.20154393e-01, 2.25150352e-01, 2.30146312e-01, 2.35142271e-01,\n",
       "        2.40138231e-01, 2.45134190e-01, 2.50130150e-01, 2.55126110e-01,\n",
       "        2.60122069e-01, 2.65118029e-01, 2.70113988e-01, 2.75109948e-01,\n",
       "        2.80105907e-01, 2.85101867e-01, 2.90097826e-01, 2.95093786e-01,\n",
       "        3.00089746e-01, 3.05085705e-01, 3.10081665e-01, 3.15077624e-01,\n",
       "        3.20073584e-01, 3.25069543e-01, 3.30065503e-01, 3.35061462e-01,\n",
       "        3.40057422e-01, 3.45053382e-01, 3.50049341e-01, 3.55045301e-01,\n",
       "        3.60041260e-01, 3.65037220e-01, 3.70033179e-01, 3.75029139e-01,\n",
       "        3.80025098e-01, 3.85021058e-01, 3.90017018e-01, 3.95012977e-01,\n",
       "        4.00008937e-01, 4.05004896e-01, 4.10000856e-01, 4.14996815e-01,\n",
       "        4.19992775e-01, 4.24988734e-01, 4.29984694e-01, 4.34980654e-01,\n",
       "        4.39976613e-01, 4.44972573e-01, 4.49968532e-01, 4.54964492e-01,\n",
       "        4.59960451e-01, 4.64956411e-01, 4.69952370e-01, 4.74948330e-01,\n",
       "        4.79944290e-01, 4.84940249e-01, 4.89936209e-01, 4.94932168e-01,\n",
       "        4.99928128e-01, 5.04924087e-01, 5.09920047e-01, 5.14916006e-01,\n",
       "        5.19911966e-01, 5.24907925e-01, 5.29903885e-01, 5.34899845e-01,\n",
       "        5.39895804e-01, 5.44891764e-01, 5.49887723e-01, 5.54883683e-01,\n",
       "        5.59879642e-01, 5.64875602e-01, 5.69871561e-01, 5.74867521e-01,\n",
       "        5.79863481e-01, 5.84859440e-01, 5.89855400e-01, 5.94851359e-01,\n",
       "        5.99847319e-01, 6.04843278e-01, 6.09839238e-01, 6.14835197e-01,\n",
       "        6.19831157e-01, 6.24827117e-01, 6.29823076e-01, 6.34819036e-01,\n",
       "        6.39814995e-01, 6.44810955e-01, 6.49806914e-01, 6.54802874e-01,\n",
       "        6.59798833e-01, 6.64794793e-01, 6.69790753e-01, 6.74786712e-01,\n",
       "        6.79782672e-01, 6.84778631e-01, 6.89774591e-01, 6.94770550e-01,\n",
       "        6.99766510e-01, 7.04762469e-01, 7.09758429e-01, 7.14754389e-01,\n",
       "        7.19750348e-01, 7.24746308e-01, 7.29742267e-01, 7.34738227e-01,\n",
       "        7.39734186e-01, 7.44730146e-01, 7.49726105e-01, 7.54722065e-01,\n",
       "        7.59718025e-01, 7.64713984e-01, 7.69709944e-01, 7.74705903e-01,\n",
       "        7.79701863e-01, 7.84697822e-01, 7.89693782e-01, 7.94689741e-01,\n",
       "        7.99685701e-01, 8.04681661e-01, 8.09677620e-01, 8.14673580e-01,\n",
       "        8.19669539e-01, 8.24665499e-01, 8.29661458e-01, 8.34657418e-01,\n",
       "        8.39653377e-01, 8.44649337e-01, 8.49645297e-01, 8.54641256e-01,\n",
       "        8.59637216e-01, 8.64633175e-01, 8.69629135e-01, 8.74625094e-01,\n",
       "        8.79621054e-01, 8.84617013e-01, 8.89612973e-01, 8.94608933e-01,\n",
       "        8.99604892e-01, 9.04600852e-01, 9.09596811e-01, 9.14592771e-01,\n",
       "        9.19588730e-01, 9.24584690e-01, 9.29580649e-01, 9.34576609e-01,\n",
       "        9.39572569e-01, 9.44568528e-01, 9.49564488e-01, 9.54560447e-01,\n",
       "        9.59556407e-01, 9.64552366e-01, 9.69548326e-01, 9.74544285e-01,\n",
       "        9.79540245e-01, 9.84536205e-01, 9.89532164e-01, 9.94528124e-01,\n",
       "        9.99524083e-01]),\n",
       " <BarContainer object of 200 artists>)"
      ]
     },
     "execution_count": 48,
     "metadata": {},
     "output_type": "execute_result"
    },
    {
     "data": {
      "image/png": "[encoded data removed]",
      "text/plain": [
       "<Figure size 640x480 with 1 Axes>"
      ]
     },
     "metadata": {},
     "output_type": "display_data"
    }
   ],
   "source": [
    "B = np.random.rand(1000)\n",
    "plt.hist(B, bins=200)"
   ]
  },
  {
   "cell_type": "code",
   "execution_count": 50,
   "id": "781055e7",
   "metadata": {},
   "outputs": [
    {
     "data": {
      "text/plain": [
       "array([[0.60226622, 0.23413585, 0.27277844],\n",
       "       [0.71398018, 0.91709578, 0.02151911]])"
      ]
     },
     "execution_count": 50,
     "metadata": {},
     "output_type": "execute_result"
    }
   ],
   "source": [
    "C = np.random.rand(2,3)\n",
    "C"
   ]
  },
  {
   "cell_type": "code",
   "execution_count": 51,
   "id": "7a307a17",
   "metadata": {},
   "outputs": [
    {
     "data": {
      "text/plain": [
       "2"
      ]
     },
     "execution_count": 51,
     "metadata": {},
     "output_type": "execute_result"
    }
   ],
   "source": [
    "C.ndim"
   ]
  },
  {
   "cell_type": "code",
   "execution_count": 53,
   "id": "096f5968",
   "metadata": {},
   "outputs": [
    {
     "data": {
      "text/plain": [
       "(4, 25)"
      ]
     },
     "execution_count": 53,
     "metadata": {},
     "output_type": "execute_result"
    }
   ],
   "source": [
    "D = np.arange(100).reshape(4,25)\n",
    "D.shape"
   ]
  },
  {
   "cell_type": "code",
   "execution_count": 54,
   "id": "882f0ee0",
   "metadata": {},
   "outputs": [],
   "source": [
    "D = np.arange(100).reshape(4,5,5)"
   ]
  },
  {
   "cell_type": "code",
   "execution_count": 55,
   "id": "ad93cd75",
   "metadata": {},
   "outputs": [
    {
     "data": {
      "text/plain": [
       "(4, 5, 5)"
      ]
     },
     "execution_count": 55,
     "metadata": {},
     "output_type": "execute_result"
    }
   ],
   "source": [
    "D.shape"
   ]
  },
  {
   "cell_type": "code",
   "execution_count": 58,
   "id": "21fe1dfb",
   "metadata": {},
   "outputs": [
    {
     "name": "stdout",
     "output_type": "stream",
     "text": [
      "[ 0  1  2  3  4  5  6  7  8  9 10 11 12 13 14 15 16 17 18 19 20 21 22 23\n",
      " 24 25 26 27 28 29 30 31 32 33 34 35 36 37 38 39 40 41 42 43 44 45 46 47\n",
      " 48 49 50 51 52 53 54 55 56 57 58 59 60 61 62 63 64 65 66 67 68 69 70 71\n",
      " 72 73 74 75 76 77 78 79 80 81 82 83 84 85 86 87 88 89 90 91 92 93 94 95\n",
      " 96 97 98 99]\n"
     ]
    }
   ],
   "source": [
    "A = np.arange(100)\n",
    "print(A)"
   ]
  },
  {
   "cell_type": "code",
   "execution_count": 59,
   "id": "304b8be9",
   "metadata": {},
   "outputs": [
    {
     "name": "stdout",
     "output_type": "stream",
     "text": [
      "[3 4 5 6 7 8 9]\n"
     ]
    }
   ],
   "source": [
    "b = A[3:10]\n",
    "print(b)"
   ]
  },
  {
   "cell_type": "code",
   "execution_count": 61,
   "id": "195e1455",
   "metadata": {},
   "outputs": [
    {
     "data": {
      "text/plain": [
       "array([-1200,     4,     5,     6,     7,     8,     9])"
      ]
     },
     "execution_count": 61,
     "metadata": {},
     "output_type": "execute_result"
    }
   ],
   "source": [
    "b[0] =-1200\n",
    "b"
   ]
  },
  {
   "cell_type": "code",
   "execution_count": 63,
   "id": "047b0b77",
   "metadata": {},
   "outputs": [
    {
     "data": {
      "text/plain": [
       "array([99, 94, 89, 84, 79, 74, 69, 64, 59, 54, 49, 44, 39, 34, 29, 24, 19,\n",
       "       14,  9,  4])"
      ]
     },
     "execution_count": 63,
     "metadata": {},
     "output_type": "execute_result"
    }
   ],
   "source": [
    "b = A[3:10].copy()\n",
    "A[::5]\n"
   ]
  },
  {
   "cell_type": "code",
   "execution_count": 64,
   "id": "6f8e2fbf",
   "metadata": {
    "scrolled": true
   },
   "outputs": [
    {
     "data": {
      "text/plain": [
       "array([99, 94, 89, 84, 79, 74, 69, 64, 59, 54, 49, 44, 39, 34, 29, 24, 19,\n",
       "       14,  9,  4])"
      ]
     },
     "execution_count": 64,
     "metadata": {},
     "output_type": "execute_result"
    }
   ],
   "source": [
    "A[::-5]"
   ]
  },
  {
   "cell_type": "code",
   "execution_count": 65,
   "id": "77ba80a7",
   "metadata": {},
   "outputs": [
    {
     "data": {
      "text/plain": [
       "array([[8., 9., 7., 6.],\n",
       "       [3., 7., 2., 3.],\n",
       "       [3., 1., 0., 3.],\n",
       "       [2., 3., 5., 7.],\n",
       "       [8., 4., 8., 3.]])"
      ]
     },
     "execution_count": 65,
     "metadata": {},
     "output_type": "execute_result"
    }
   ],
   "source": [
    "A = np.round(10*np.random.rand(5,4))\n",
    "A"
   ]
  },
  {
   "cell_type": "code",
   "execution_count": null,
   "id": "591593d8",
   "metadata": {},
   "outputs": [],
   "source": []
  },
  {
   "cell_type": "code",
   "execution_count": null,
   "id": "9c782c4c",
   "metadata": {},
   "outputs": [],
   "source": []
  },
  {
   "cell_type": "code",
   "execution_count": null,
   "id": "5e469271",
   "metadata": {},
   "outputs": [],
   "source": []
  },
  {
   "cell_type": "code",
   "execution_count": null,
   "id": "1626ecb1",
   "metadata": {},
   "outputs": [],
   "source": []
  },
  {
   "cell_type": "code",
   "execution_count": null,
   "id": "18c5b9be",
   "metadata": {},
   "outputs": [],
   "source": []
  },
  {
   "cell_type": "code",
   "execution_count": null,
   "id": "217ce008",
   "metadata": {},
   "outputs": [],
   "source": []
  }
 ],
 "metadata": {
  "kernelspec": {
   "display_name": "Python 3 (ipykernel)",
   "language": "python",
   "name": "python3"
  },
  "language_info": {
   "codemirror_mode": {
    "name": "ipython",
    "version": 3
   },
   "file_extension": ".py",
   "mimetype": "text/x-python",
   "name": "python",
   "nbconvert_exporter": "python",
   "pygments_lexer": "ipython3",
   "version": "3.9.13"
  }
 },
 "nbformat": 4,
 "nbformat_minor": 5
}
